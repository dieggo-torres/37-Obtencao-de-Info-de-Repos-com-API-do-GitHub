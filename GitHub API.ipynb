{
 "cells": [
  {
   "cell_type": "code",
   "execution_count": 1,
   "id": "a8dadb95",
   "metadata": {},
   "outputs": [],
   "source": [
    "from github import Github\n",
    "import pandas as pd"
   ]
  },
  {
   "cell_type": "code",
   "execution_count": 2,
   "id": "a2467e45",
   "metadata": {},
   "outputs": [
    {
     "data": {
      "text/html": [
       "<div>\n",
       "<style scoped>\n",
       "    .dataframe tbody tr th:only-of-type {\n",
       "        vertical-align: middle;\n",
       "    }\n",
       "\n",
       "    .dataframe tbody tr th {\n",
       "        vertical-align: top;\n",
       "    }\n",
       "\n",
       "    .dataframe thead th {\n",
       "        text-align: right;\n",
       "    }\n",
       "</style>\n",
       "<table border=\"1\" class=\"dataframe\">\n",
       "  <thead>\n",
       "    <tr style=\"text-align: right;\">\n",
       "      <th></th>\n",
       "      <th>Nome</th>\n",
       "      <th>Descrição</th>\n",
       "      <th>Criação</th>\n",
       "      <th>Linguagem</th>\n",
       "      <th>URL</th>\n",
       "    </tr>\n",
       "  </thead>\n",
       "  <tbody>\n",
       "    <tr>\n",
       "      <th>0</th>\n",
       "      <td>01-Artigo-LinkedIn-4-Aplicacoes-de-List-Compre...</td>\n",
       "      <td>Este Jupyter notebook contém os exemplos usado...</td>\n",
       "      <td>2022-02-17 13:22:29</td>\n",
       "      <td>Jupyter Notebook</td>\n",
       "      <td>https://api.github.com/repos/dieggo-torres/01-...</td>\n",
       "    </tr>\n",
       "    <tr>\n",
       "      <th>1</th>\n",
       "      <td>01-Calculo-de-Bonus-de-Funcionarios</td>\n",
       "      <td>Este programa calcula o bônus de cada funcioná...</td>\n",
       "      <td>2022-02-15 13:24:51</td>\n",
       "      <td>Python</td>\n",
       "      <td>https://api.github.com/repos/dieggo-torres/01-...</td>\n",
       "    </tr>\n",
       "    <tr>\n",
       "      <th>2</th>\n",
       "      <td>01-Cartoes-Expansiveis</td>\n",
       "      <td>Widget para expandir imagem de uma galeria de ...</td>\n",
       "      <td>2022-02-15 22:40:06</td>\n",
       "      <td>HTML</td>\n",
       "      <td>https://api.github.com/repos/dieggo-torres/01-...</td>\n",
       "    </tr>\n",
       "    <tr>\n",
       "      <th>3</th>\n",
       "      <td>02-Artigo-LinkedIn-3-Aplicacoes-de-Funcoes-de-...</td>\n",
       "      <td>Este Jupyter notebbok contém os exemplos usado...</td>\n",
       "      <td>2022-02-17 13:41:35</td>\n",
       "      <td>Jupyter Notebook</td>\n",
       "      <td>https://api.github.com/repos/dieggo-torres/02-...</td>\n",
       "    </tr>\n",
       "    <tr>\n",
       "      <th>4</th>\n",
       "      <td>02-Mini-Sistema-de-Controle-de-Estoque</td>\n",
       "      <td>Mini Sistema de Controle de Estoque</td>\n",
       "      <td>2022-02-15 14:26:14</td>\n",
       "      <td>Python</td>\n",
       "      <td>https://api.github.com/repos/dieggo-torres/02-...</td>\n",
       "    </tr>\n",
       "  </tbody>\n",
       "</table>\n",
       "</div>"
      ],
      "text/plain": [
       "                                                Nome  \\\n",
       "0  01-Artigo-LinkedIn-4-Aplicacoes-de-List-Compre...   \n",
       "1                01-Calculo-de-Bonus-de-Funcionarios   \n",
       "2                             01-Cartoes-Expansiveis   \n",
       "3  02-Artigo-LinkedIn-3-Aplicacoes-de-Funcoes-de-...   \n",
       "4             02-Mini-Sistema-de-Controle-de-Estoque   \n",
       "\n",
       "                                           Descrição             Criação  \\\n",
       "0  Este Jupyter notebook contém os exemplos usado... 2022-02-17 13:22:29   \n",
       "1  Este programa calcula o bônus de cada funcioná... 2022-02-15 13:24:51   \n",
       "2  Widget para expandir imagem de uma galeria de ... 2022-02-15 22:40:06   \n",
       "3  Este Jupyter notebbok contém os exemplos usado... 2022-02-17 13:41:35   \n",
       "4                Mini Sistema de Controle de Estoque 2022-02-15 14:26:14   \n",
       "\n",
       "          Linguagem                                                URL  \n",
       "0  Jupyter Notebook  https://api.github.com/repos/dieggo-torres/01-...  \n",
       "1            Python  https://api.github.com/repos/dieggo-torres/01-...  \n",
       "2              HTML  https://api.github.com/repos/dieggo-torres/01-...  \n",
       "3  Jupyter Notebook  https://api.github.com/repos/dieggo-torres/02-...  \n",
       "4            Python  https://api.github.com/repos/dieggo-torres/02-...  "
      ]
     },
     "execution_count": 2,
     "metadata": {},
     "output_type": "execute_result"
    }
   ],
   "source": [
    "# Nome de usuário do GitHub\n",
    "nome_usuario = \"dieggo-torres\"\n",
    "\n",
    "# Objeto GitHub\n",
    "github = Github()\n",
    "\n",
    "# Obtém o usuário\n",
    "usuario = github.get_user(nome_usuario)\n",
    "\n",
    "repos_info = []\n",
    "\n",
    "for repo in usuario.get_repos():    \n",
    "    repos_info.append({\n",
    "        \"Nome\": repo.name,\n",
    "        \"Descrição\": repo.description,\n",
    "        \"Criação\": repo.created_at,\n",
    "        \"Linguagem\": repo.language,\n",
    "        \"URL\": repo.url,\n",
    "    })\n",
    "    \n",
    "\n",
    "df_repos = pd.DataFrame(repos_info)\n",
    "df_repos.head()"
   ]
  },
  {
   "cell_type": "code",
   "execution_count": 3,
   "id": "37f09ada",
   "metadata": {},
   "outputs": [],
   "source": [
    "df_repos.to_csv(\"github_repos.csv\", sep=\",\", encoding=\"utf-8\")"
   ]
  }
 ],
 "metadata": {
  "kernelspec": {
   "display_name": "Python 3 (ipykernel)",
   "language": "python",
   "name": "python3"
  },
  "language_info": {
   "codemirror_mode": {
    "name": "ipython",
    "version": 3
   },
   "file_extension": ".py",
   "mimetype": "text/x-python",
   "name": "python",
   "nbconvert_exporter": "python",
   "pygments_lexer": "ipython3",
   "version": "3.9.7"
  }
 },
 "nbformat": 4,
 "nbformat_minor": 5
}
